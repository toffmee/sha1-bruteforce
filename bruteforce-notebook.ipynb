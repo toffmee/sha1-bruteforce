{
 "metadata": {
  "language_info": {
   "codemirror_mode": {
    "name": "ipython",
    "version": 3
   },
   "file_extension": ".py",
   "mimetype": "text/x-python",
   "name": "python",
   "nbconvert_exporter": "python",
   "pygments_lexer": "ipython3",
   "version": "3.6.9"
  },
  "orig_nbformat": 2,
  "kernelspec": {
   "name": "python369jvsc74a57bd0a828758990cb2339b995ee3672cedebca6f2655bea56676ec5a3e5184372f7ff",
   "display_name": "Python 3.6.9 64-bit ('venv')"
  },
  "metadata": {
   "interpreter": {
    "hash": "a828758990cb2339b995ee3672cedebca6f2655bea56676ec5a3e5184372f7ff"
   }
  }
 },
 "nbformat": 4,
 "nbformat_minor": 2,
 "cells": [
  {
   "cell_type": "code",
   "execution_count": 1,
   "metadata": {},
   "outputs": [],
   "source": [
    "import argparse\n",
    "import hashlib\n",
    "import time"
   ]
  },
  {
   "cell_type": "code",
   "execution_count": 2,
   "metadata": {},
   "outputs": [],
   "source": [
    "end = 0\n",
    "years = list(range(1990, 2001))\n",
    "specials = [\"@\", \"_\", \"!\", \"#\", \"$\", \"%\", \"^\", \"&\", \"*\",\n",
    "            \"(\", \")\", \"<\", \">\", \"?\", \"/\", \"|\", \"}\", \"{\", \"~\", \":\", \"]\"]\n",
    "results = []"
   ]
  },
  {
   "cell_type": "code",
   "execution_count": 3,
   "metadata": {},
   "outputs": [],
   "source": [
    "with open('wordlist.txt') as f:\n",
    "    words = f.read().splitlines()\n"
   ]
  },
  {
   "cell_type": "code",
   "execution_count": 4,
   "metadata": {},
   "outputs": [],
   "source": [
    "with open('hasheslist') as f:\n",
    "    hashes = f.read().splitlines()"
   ]
  },
  {
   "cell_type": "code",
   "execution_count": 5,
   "metadata": {},
   "outputs": [],
   "source": [
    "#go through concatenations of words, loop through words twice -> hash -> compare with hashes\n",
    "def concatenated():\n",
    "    print(\"Bruteforcing concatenated words:\")\n",
    "    for x in words:\n",
    "        if x == \"yellow\":\n",
    "            for y in words:\n",
    "                if hashlib.sha1(x.encode('utf-8') + y.encode('utf-8')).hexdigest() in hashes:\n",
    "                    end = time.time()\n",
    "                    print(\"Password found: {} it took {}\".format(\n",
    "                        x+y, end-start))\n",
    "                    results.append(x+y)"
   ]
  },
  {
   "cell_type": "code",
   "execution_count": 6,
   "metadata": {},
   "outputs": [],
   "source": [
    "#go through single word passwords, loop through words -> hash them -> compare with hashes\n",
    "def singleWord():\n",
    "    print(\"Bruteforcing single words:\")\n",
    "    for x in words:\n",
    "        if hashlib.sha1(x.encode('utf-8')).hexdigest() in hashes:\n",
    "            end = time.time()\n",
    "            print(\"Password found: {} it took {}\".format(x, end-start))\n",
    "            results.append(x)"
   ]
  },
  {
   "cell_type": "code",
   "execution_count": 7,
   "metadata": {},
   "outputs": [],
   "source": [
    "#append a birthdate to a word, loop through words and years -> append birthdate to year -> hash -> compare with hashes\n",
    "def appendBirthdate():\n",
    "    print(\"Bruteforcing appended birthdates:\")\n",
    "    for x in words:\n",
    "        for year in years:\n",
    "            if hashlib.sha1(x.encode('utf-8') + str(year).encode('utf-8')).hexdigest() in hashes:\n",
    "                end = time.time()\n",
    "                password = x + str(year)\n",
    "                results.append(password)\n",
    "                print(\"Password found: {} it took {}\".format(password, end-start))\n",
    "            if hashlib.sha1(x.encode('utf-8').capitalize() + str(year).encode('utf-8')).hexdigest() in hashes:\n",
    "                    end = time.time()\n",
    "                    password = x.capitalize() + str(year)\n",
    "                    print(\"Password found: {} it took {}\".format(password, end-start))\n",
    "                    results.append(password)"
   ]
  },
  {
   "cell_type": "code",
   "execution_count": 8,
   "metadata": {},
   "outputs": [],
   "source": [
    "#append birthdate and special to single word that is capitalized and not, loop through words years and specials -> combine them -> hash -> compare with hashes\n",
    "def appendBirthdateAndSpecial():\n",
    "    print(\"Bruteforcing appended birthdate + special:\")\n",
    "    for x in words:\n",
    "        for year in years:\n",
    "            for special in specials:\n",
    "                if hashlib.sha1(x.encode('utf-8') + str(year).encode('utf-8') + special.encode('utf-8')).hexdigest() in hashes:\n",
    "                    end = time.time()\n",
    "                    password = x + str(year)\n",
    "                    print(\"Password found: {} it took {}\".format(password, end-start))\n",
    "                    results.append(password)\n",
    "                if hashlib.sha1(x.encode('utf-8').capitalize() + str(year).encode('utf-8') + special.encode('utf-8')).hexdigest() in hashes:\n",
    "                        end = time.time()\n",
    "                        password = x.capitalize() + str(year)\n",
    "                        print(\"Password found: {} it took {}\".format(password, end-start))\n",
    "                        results.append(password)"
   ]
  },
  {
   "cell_type": "code",
   "execution_count": 9,
   "metadata": {},
   "outputs": [],
   "source": [
    "#append a special char to single word, loop through words and specials -> combine -> hash -> compare with hashes\n",
    "def specialCharAppended():\n",
    "    print(\"Bruteforcing appended special charactes:\")\n",
    "    for x in words:\n",
    "        for special in specials:\n",
    "            if hashlib.sha1(x.encode('utf-8') + special.encode('utf-8')).hexdigest() in hashes:\n",
    "                end = time.time()\n",
    "                print(\"Password found: {} it took {}\".format(x + special, end-start))\n",
    "                results.append(x + special)"
   ]
  },
  {
   "cell_type": "code",
   "execution_count": 10,
   "metadata": {},
   "outputs": [],
   "source": [
    "#add a special character to the start of a word, loop through words and specials -> combine -> hash -> compare with hashes\n",
    "def specialCharInFront():\n",
    "    print(\"Bruteforcing special before word:\")\n",
    "    for x in words:\n",
    "        for special in specials:\n",
    "            if hashlib.sha1(special.encode('utf-8') + x.encode('utf-8')).hexdigest() in hashes:\n",
    "                end = time.time()\n",
    "                print(\"Password found: {} it took {}\".format(special + x, end-start))\n",
    "                results.append(special + x)"
   ]
  },
  {
   "cell_type": "code",
   "execution_count": 11,
   "metadata": {},
   "outputs": [],
   "source": [
    "#append and add special character to a word that is capitalized and not, loop through words and specials twice -> combine -> hash -> compare with hashes\n",
    "def specialCharInFrontAndAppend():\n",
    "    print(\"Bruteforcing special before and after:\")\n",
    "    for x in words:\n",
    "        for s in specials:\n",
    "            for s2 in specials:\n",
    "                if hashlib.sha1(s.encode('utf-8') + x.encode('utf-8') + s2.encode('utf-8')).hexdigest() in hashes:\n",
    "                    end = time.time()\n",
    "                    print(\"Password found: {} it took {}\".format(s + x + s2, end-start))\n",
    "                    results.append(s+x+s2)\n",
    "                if hashlib.sha1(s.encode('utf-8') + x.encode('utf-8').capitalize() + s2.encode('utf-8')).hexdigest() in hashes:\n",
    "                    end = time.time()\n",
    "                    print(\"Password found: {} it took {}\".format(s + x.capitalize() + s2, end-start))\n",
    "                    results.append(s + x.capitalize() + s2)"
   ]
  },
  {
   "cell_type": "code",
   "execution_count": 12,
   "metadata": {},
   "outputs": [],
   "source": [
    "#try out all hints, loop through words twice specials and years, combine two words year and special -> hash -> compare with hashes. \n",
    "def allCombinations():\n",
    "    print(\"Trying out all the hints\")\n",
    "    for x in words:\n",
    "        for y in words:\n",
    "            for s in specials:\n",
    "                for year in years:\n",
    "                    print(x.capitalize() + y.capitalize() + str(year) + s)\n",
    "                    if hashlib.sha1(x.capitalize().encode('utf-8') + y.capitalize().encode('utf-8') + str(year).encode('utf-8') + s.encode('utf-8')).hexdigest() in hashes:\n",
    "                        end = time.time()\n",
    "                        print(\"Password found: {} it took {}\".format(x.capitalize() + y.capitalize + str(year) + s, end-start))\n"
   ]
  },
  {
   "cell_type": "code",
   "execution_count": 13,
   "metadata": {},
   "outputs": [
    {
     "output_type": "stream",
     "name": "stdout",
     "text": [
      "Bruteforcing concatenated words:\n",
      "Password found: yellowhamster it took 0.12103629112243652\n",
      "Bruteforcing single words:\n",
      "Password found: abelian it took 0.28978872299194336\n",
      "Bruteforcing appended birthdates:\n",
      "Password found: batwoman1997 it took 1.0539755821228027\n",
      "Password found: handyman1995 it took 3.001321315765381\n",
      "Password found: Oxygen2000 it took 4.686691522598267\n",
      "Password found: Parental1990 it took 4.7651588916778564\n",
      "Bruteforcing special before word:\n",
      "Password found: #hamster it took 9.482033729553223\n",
      "Bruteforcing special before and after:\n",
      "Password found: $Yellow? it took 126.04300355911255\n",
      "Bruteforcing appended birthdate + special:\n",
      "Bruteforcing stopped\n",
      "Overall this took: 460.5940911769867\n"
     ]
    }
   ],
   "source": [
    "start = time.time()\n",
    "concatenated()\n",
    "singleWord()\n",
    "appendBirthdate()\n",
    "specialCharInFront()\n",
    "specialCharInFrontAndAppend()\n",
    "appendBirthdateAndSpecial()\n",
    "print(\"Bruteforcing stopped\")\n",
    "overallTime = time.time()\n",
    "print(\"Overall this took: {}\".format(overallTime-start))\n",
    "with open('passwords.txt', 'w') as filehandle:\n",
    "    for x in results:\n",
    "        filehandle.write('%s\\n' % x)"
   ]
  },
  {
   "cell_type": "code",
   "execution_count": null,
   "metadata": {},
   "outputs": [],
   "source": []
  }
 ]
}